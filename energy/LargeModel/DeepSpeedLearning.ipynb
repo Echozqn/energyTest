{
 "cells": [
  {
   "cell_type": "markdown",
   "source": [
    "`deepspeed.add_config_arguments(parser)`\n",
    "* 是向 argparse.ArgumentParser 对象 parser 添加 DeepSpeed 配置相关的命令行参数。\n",
    "*"
   ],
   "metadata": {
    "collapsed": false
   }
  },
  {
   "cell_type": "code",
   "execution_count": null,
   "outputs": [],
   "source": [
    "import deepspeed\n",
    "import argparse\n",
    "\n",
    "# 创建一个 argparse.ArgumentParser 来解析命令行参数\n",
    "parser = argparse.ArgumentParser(description='My training script.')\n",
    "parser.add_argument('--local_rank', type=int, default=-1,\n",
    "                    help='local rank passed from distributed launcher')\n",
    "# 添加 DeepSpeed 配置相关的命令行参数\n",
    "parser = deepspeed.add_config_arguments(parser)\n",
    "\n",
    "# 解析命令行参数\n",
    "cmd_args = parser.parse_args()"
   ],
   "metadata": {
    "collapsed": false,
    "pycharm": {
     "name": "#%%\n"
    }
   }
  },
  {
   "cell_type": "markdown",
   "source": [
    "`deepspeed.initialize(model, optimizer, model_parameters=None, optimizer_parameters=None, config_params=None, mpu=None)\n",
    "`\n",
    "* model: 要训练的 PyTorch 模型。这应该是一个已经定义好的模型，用于进行训练任务。\n",
    "* optimizer: PyTorch 优化器。这是用于更新模型参数的优化器，如 torch.optim.SGD、torch.optim.Adam 等。\n",
    "* model_parameters (可选): 可选参数，用于指定要优化的模型参数。\n",
    "* training_data: 可选参数，用于指定训练数据集。应该是一个 torch.utils.data.Dataset 对象。\n",
    "* lr_scheduler: 可选参数，学习率调度器对象或一个函数，该函数接受优化器对象并返回一个学习率调度器对象。\n",
    "* mpu: 可选参数，模型并行单元（Model Parallel Unit）对象，用于在模型并行设置中指定模型分片方式。\n",
    "* dist_init_required: 可选参数，指示是否需要初始化 PyTorch 的分布式环境。如果为 None，则会根据需要自动初始化，否则可以通过布尔值强制指定是否初始化。\n",
    "* config: 可选参数，DeepSpeed 配置文件的路径或字典形式的配置。如果提供了此参数，则不需要提供 args 参数。"
   ],
   "metadata": {
    "collapsed": false
   }
  },
  {
   "cell_type": "code",
   "execution_count": 1,
   "outputs": [
    {
     "ename": "NameError",
     "evalue": "name 'deepspeed' is not defined",
     "output_type": "error",
     "traceback": [
      "\u001B[0;31m---------------------------------------------------------------------------\u001B[0m",
      "\u001B[0;31mNameError\u001B[0m                                 Traceback (most recent call last)",
      "Cell \u001B[0;32mIn[1], line 8\u001B[0m\n\u001B[1;32m      6\u001B[0m optimizer \u001B[38;5;241m=\u001B[39m optim\u001B[38;5;241m.\u001B[39mAdam(model\u001B[38;5;241m.\u001B[39mparameters(), lr\u001B[38;5;241m=\u001B[39m\u001B[38;5;241m0.001\u001B[39m)\n\u001B[1;32m      7\u001B[0m \u001B[38;5;66;03m# 5. 初始化 DeepSpeed 环境\u001B[39;00m\n\u001B[0;32m----> 8\u001B[0m model, optimizer, _, _ \u001B[38;5;241m=\u001B[39m \u001B[43mdeepspeed\u001B[49m\u001B[38;5;241m.\u001B[39minitialize(model, optimizer, config_params\u001B[38;5;241m=\u001B[39mdeepspeed_config_path)\n",
      "\u001B[0;31mNameError\u001B[0m: name 'deepspeed' is not defined"
     ]
    }
   ],
   "source": [
    "import torch.optim as optim\n",
    "import torchvision.models as models\n",
    "deepspeed_config_path = \"deepspeed_config.json\"\n",
    "# 创建模型和优化器\n",
    "model = models.resnet50()\n",
    "optimizer = optim.Adam(model.parameters(), lr=0.001)\n",
    "# 5. 初始化 DeepSpeed 环境\n",
    "model, optimizer, _, _ = deepspeed.initialize(model, optimizer, config_params=deepspeed_config_path)"
   ],
   "metadata": {
    "collapsed": false,
    "pycharm": {
     "name": "#%%\n"
    }
   }
  },
  {
   "cell_type": "markdown",
   "source": [
    "`deepspeed.init_distributed`:\n",
    "* 用于初始化分布式后端，准备分布式训练所需的通信环境。它可以在调用 deepspeed.initialize 之前使用，用于执行 Torch 的分布式初始化操作。\n",
    "* deepspeed.init_distributed 用于初始化分布式后端，准备分布式训练所需的通信环境。\n",
    "\n",
    "`deepspeed.initialize`\n",
    "* 用于初始化 DeepSpeed 训练环境，包括配置优化器、学习率调度器等，以准备进行分布式训练。它需要在调用 deepspeed.init_distributed 或者在已经初始化了分布式环境后使用。"
   ],
   "metadata": {
    "collapsed": false,
    "pycharm": {
     "name": "#%% md\n"
    }
   }
  },
  {
   "cell_type": "code",
   "execution_count": null,
   "outputs": [],
   "source": [],
   "metadata": {
    "collapsed": false,
    "pycharm": {
     "name": "#%%\n"
    }
   }
  }
 ],
 "metadata": {
  "kernelspec": {
   "display_name": "Python 3",
   "language": "python",
   "name": "python3"
  },
  "language_info": {
   "codemirror_mode": {
    "name": "ipython",
    "version": 2
   },
   "file_extension": ".py",
   "mimetype": "text/x-python",
   "name": "python",
   "nbconvert_exporter": "python",
   "pygments_lexer": "ipython2",
   "version": "2.7.6"
  }
 },
 "nbformat": 4,
 "nbformat_minor": 0
}